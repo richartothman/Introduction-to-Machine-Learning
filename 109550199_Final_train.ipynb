{
  "nbformat": 4,
  "nbformat_minor": 0,
  "metadata": {
    "colab": {
      "provenance": []
    },
    "kernelspec": {
      "name": "python3",
      "display_name": "Python 3"
    },
    "language_info": {
      "name": "python"
    }
  },
  "cells": [
    {
      "cell_type": "code",
      "execution_count": 1,
      "metadata": {
        "id": "UWjYwo7EGjCc"
      },
      "outputs": [],
      "source": [
        "import pandas as pd\n",
        "import numpy as np\n",
        "from matplotlib import pyplot as plt\n",
        "import seaborn as sns\n",
        "import warnings\n",
        "import scipy.stats\n",
        "\n",
        "from sklearn.model_selection import GroupKFold\n",
        "from sklearn.preprocessing import OneHotEncoder, OrdinalEncoder, StandardScaler\n",
        "from sklearn.experimental import enable_iterative_imputer\n",
        "from sklearn.impute import SimpleImputer, IterativeImputer, KNNImputer\n",
        "from sklearn.ensemble import RandomForestClassifier, ExtraTreesClassifier\n",
        "from sklearn.pipeline import make_pipeline\n",
        "from sklearn.linear_model import LogisticRegression, LinearRegression\n",
        "from sklearn.discriminant_analysis import QuadraticDiscriminantAnalysis, LinearDiscriminantAnalysis\n",
        "from sklearn.metrics import roc_auc_score, roc_curve\n",
        "from joblib import dump\n"
      ]
    },
    {
      "cell_type": "code",
      "source": [
        "train_df = pd.read_csv('/content/drive/MyDrive/Final_data/train.csv')\n"
      ],
      "metadata": {
        "id": "T54CDDUxzoAe"
      },
      "execution_count": 2,
      "outputs": []
    },
    {
      "cell_type": "code",
      "source": [
        "train_df.shape"
      ],
      "metadata": {
        "colab": {
          "base_uri": "https://localhost:8080/"
        },
        "id": "wtNCvfJozoJd",
        "outputId": "1965565d-37a6-45f2-fa2b-b725ec1f4fce"
      },
      "execution_count": 3,
      "outputs": [
        {
          "output_type": "execute_result",
          "data": {
            "text/plain": [
              "(26570, 26)"
            ]
          },
          "metadata": {},
          "execution_count": 3
        }
      ]
    },
    {
      "cell_type": "code",
      "source": [],
      "metadata": {
        "id": "k7lOAJsW5smZ"
      },
      "execution_count": 3,
      "outputs": []
    },
    {
      "cell_type": "code",
      "source": [
        "train_df.describe()"
      ],
      "metadata": {
        "colab": {
          "base_uri": "https://localhost:8080/",
          "height": 394
        },
        "id": "Ro5zUPwFzoQH",
        "outputId": "d2c4d66b-4fb0-49fa-b6bd-cd70da7ba8e6"
      },
      "execution_count": 4,
      "outputs": [
        {
          "output_type": "execute_result",
          "data": {
            "text/plain": [
              "                 id       loading   attribute_2   attribute_3  measurement_0  \\\n",
              "count  26570.000000  26320.000000  26570.000000  26570.000000   26570.000000   \n",
              "mean   13284.500000    127.826233      6.754046      7.240459       7.415883   \n",
              "std     7670.242662     39.030020      1.471852      1.456493       4.116690   \n",
              "min        0.000000     33.160000      5.000000      5.000000       0.000000   \n",
              "25%     6642.250000     99.987500      6.000000      6.000000       4.000000   \n",
              "50%    13284.500000    122.390000      6.000000      8.000000       7.000000   \n",
              "75%    19926.750000    149.152500      8.000000      8.000000      10.000000   \n",
              "max    26569.000000    385.860000      9.000000      9.000000      29.000000   \n",
              "\n",
              "       measurement_1  measurement_2  measurement_3  measurement_4  \\\n",
              "count   26570.000000   26570.000000   26189.000000   26032.000000   \n",
              "mean        8.232518       6.256568      17.791528      11.731988   \n",
              "std         4.199401       3.309109       1.001200       0.996085   \n",
              "min         0.000000       0.000000      13.968000       8.008000   \n",
              "25%         5.000000       4.000000      17.117000      11.051000   \n",
              "50%         8.000000       6.000000      17.787000      11.733000   \n",
              "75%        11.000000       8.000000      18.469000      12.410000   \n",
              "max        29.000000      24.000000      21.499000      16.484000   \n",
              "\n",
              "       measurement_5  ...  measurement_9  measurement_10  measurement_11  \\\n",
              "count   25894.000000  ...   25343.000000    25270.000000    25102.000000   \n",
              "mean       17.127804  ...      11.430725       16.117711       19.172085   \n",
              "std         0.996414  ...       0.999137        1.405978        1.520785   \n",
              "min        12.073000  ...       7.537000        9.323000       12.461000   \n",
              "25%        16.443000  ...      10.757000       15.209000       18.170000   \n",
              "50%        17.132000  ...      11.430000       16.127000       19.211500   \n",
              "75%        17.805000  ...      12.102000       17.025000       20.207000   \n",
              "max        21.425000  ...      15.412000       22.479000       25.640000   \n",
              "\n",
              "       measurement_12  measurement_13  measurement_14  measurement_15  \\\n",
              "count    24969.000000    24796.000000    24696.000000    24561.000000   \n",
              "mean        11.702464       15.652904       16.048444       14.995554   \n",
              "std          1.488838        1.155247        1.491923        1.549226   \n",
              "min          5.167000       10.890000        9.140000        9.104000   \n",
              "25%         10.703000       14.890000       15.057000       13.957000   \n",
              "50%         11.717000       15.628500       16.040000       14.969000   \n",
              "75%         12.709000       16.374000       17.082000       16.018000   \n",
              "max         17.663000       22.713000       22.303000       21.626000   \n",
              "\n",
              "       measurement_16  measurement_17       failure  \n",
              "count    24460.000000    24286.000000  26570.000000  \n",
              "mean        16.460727      701.269059      0.212608  \n",
              "std          1.708935      123.304161      0.409160  \n",
              "min          9.701000      196.787000      0.000000  \n",
              "25%         15.268000      618.961500      0.000000  \n",
              "50%         16.436000      701.024500      0.000000  \n",
              "75%         17.628000      784.090250      0.000000  \n",
              "max         24.094000     1312.794000      1.000000  \n",
              "\n",
              "[8 rows x 23 columns]"
            ],
            "text/html": [
              "\n",
              "  <div id=\"df-883c952c-2617-45b0-b5f2-06400b09098d\">\n",
              "    <div class=\"colab-df-container\">\n",
              "      <div>\n",
              "<style scoped>\n",
              "    .dataframe tbody tr th:only-of-type {\n",
              "        vertical-align: middle;\n",
              "    }\n",
              "\n",
              "    .dataframe tbody tr th {\n",
              "        vertical-align: top;\n",
              "    }\n",
              "\n",
              "    .dataframe thead th {\n",
              "        text-align: right;\n",
              "    }\n",
              "</style>\n",
              "<table border=\"1\" class=\"dataframe\">\n",
              "  <thead>\n",
              "    <tr style=\"text-align: right;\">\n",
              "      <th></th>\n",
              "      <th>id</th>\n",
              "      <th>loading</th>\n",
              "      <th>attribute_2</th>\n",
              "      <th>attribute_3</th>\n",
              "      <th>measurement_0</th>\n",
              "      <th>measurement_1</th>\n",
              "      <th>measurement_2</th>\n",
              "      <th>measurement_3</th>\n",
              "      <th>measurement_4</th>\n",
              "      <th>measurement_5</th>\n",
              "      <th>...</th>\n",
              "      <th>measurement_9</th>\n",
              "      <th>measurement_10</th>\n",
              "      <th>measurement_11</th>\n",
              "      <th>measurement_12</th>\n",
              "      <th>measurement_13</th>\n",
              "      <th>measurement_14</th>\n",
              "      <th>measurement_15</th>\n",
              "      <th>measurement_16</th>\n",
              "      <th>measurement_17</th>\n",
              "      <th>failure</th>\n",
              "    </tr>\n",
              "  </thead>\n",
              "  <tbody>\n",
              "    <tr>\n",
              "      <th>count</th>\n",
              "      <td>26570.000000</td>\n",
              "      <td>26320.000000</td>\n",
              "      <td>26570.000000</td>\n",
              "      <td>26570.000000</td>\n",
              "      <td>26570.000000</td>\n",
              "      <td>26570.000000</td>\n",
              "      <td>26570.000000</td>\n",
              "      <td>26189.000000</td>\n",
              "      <td>26032.000000</td>\n",
              "      <td>25894.000000</td>\n",
              "      <td>...</td>\n",
              "      <td>25343.000000</td>\n",
              "      <td>25270.000000</td>\n",
              "      <td>25102.000000</td>\n",
              "      <td>24969.000000</td>\n",
              "      <td>24796.000000</td>\n",
              "      <td>24696.000000</td>\n",
              "      <td>24561.000000</td>\n",
              "      <td>24460.000000</td>\n",
              "      <td>24286.000000</td>\n",
              "      <td>26570.000000</td>\n",
              "    </tr>\n",
              "    <tr>\n",
              "      <th>mean</th>\n",
              "      <td>13284.500000</td>\n",
              "      <td>127.826233</td>\n",
              "      <td>6.754046</td>\n",
              "      <td>7.240459</td>\n",
              "      <td>7.415883</td>\n",
              "      <td>8.232518</td>\n",
              "      <td>6.256568</td>\n",
              "      <td>17.791528</td>\n",
              "      <td>11.731988</td>\n",
              "      <td>17.127804</td>\n",
              "      <td>...</td>\n",
              "      <td>11.430725</td>\n",
              "      <td>16.117711</td>\n",
              "      <td>19.172085</td>\n",
              "      <td>11.702464</td>\n",
              "      <td>15.652904</td>\n",
              "      <td>16.048444</td>\n",
              "      <td>14.995554</td>\n",
              "      <td>16.460727</td>\n",
              "      <td>701.269059</td>\n",
              "      <td>0.212608</td>\n",
              "    </tr>\n",
              "    <tr>\n",
              "      <th>std</th>\n",
              "      <td>7670.242662</td>\n",
              "      <td>39.030020</td>\n",
              "      <td>1.471852</td>\n",
              "      <td>1.456493</td>\n",
              "      <td>4.116690</td>\n",
              "      <td>4.199401</td>\n",
              "      <td>3.309109</td>\n",
              "      <td>1.001200</td>\n",
              "      <td>0.996085</td>\n",
              "      <td>0.996414</td>\n",
              "      <td>...</td>\n",
              "      <td>0.999137</td>\n",
              "      <td>1.405978</td>\n",
              "      <td>1.520785</td>\n",
              "      <td>1.488838</td>\n",
              "      <td>1.155247</td>\n",
              "      <td>1.491923</td>\n",
              "      <td>1.549226</td>\n",
              "      <td>1.708935</td>\n",
              "      <td>123.304161</td>\n",
              "      <td>0.409160</td>\n",
              "    </tr>\n",
              "    <tr>\n",
              "      <th>min</th>\n",
              "      <td>0.000000</td>\n",
              "      <td>33.160000</td>\n",
              "      <td>5.000000</td>\n",
              "      <td>5.000000</td>\n",
              "      <td>0.000000</td>\n",
              "      <td>0.000000</td>\n",
              "      <td>0.000000</td>\n",
              "      <td>13.968000</td>\n",
              "      <td>8.008000</td>\n",
              "      <td>12.073000</td>\n",
              "      <td>...</td>\n",
              "      <td>7.537000</td>\n",
              "      <td>9.323000</td>\n",
              "      <td>12.461000</td>\n",
              "      <td>5.167000</td>\n",
              "      <td>10.890000</td>\n",
              "      <td>9.140000</td>\n",
              "      <td>9.104000</td>\n",
              "      <td>9.701000</td>\n",
              "      <td>196.787000</td>\n",
              "      <td>0.000000</td>\n",
              "    </tr>\n",
              "    <tr>\n",
              "      <th>25%</th>\n",
              "      <td>6642.250000</td>\n",
              "      <td>99.987500</td>\n",
              "      <td>6.000000</td>\n",
              "      <td>6.000000</td>\n",
              "      <td>4.000000</td>\n",
              "      <td>5.000000</td>\n",
              "      <td>4.000000</td>\n",
              "      <td>17.117000</td>\n",
              "      <td>11.051000</td>\n",
              "      <td>16.443000</td>\n",
              "      <td>...</td>\n",
              "      <td>10.757000</td>\n",
              "      <td>15.209000</td>\n",
              "      <td>18.170000</td>\n",
              "      <td>10.703000</td>\n",
              "      <td>14.890000</td>\n",
              "      <td>15.057000</td>\n",
              "      <td>13.957000</td>\n",
              "      <td>15.268000</td>\n",
              "      <td>618.961500</td>\n",
              "      <td>0.000000</td>\n",
              "    </tr>\n",
              "    <tr>\n",
              "      <th>50%</th>\n",
              "      <td>13284.500000</td>\n",
              "      <td>122.390000</td>\n",
              "      <td>6.000000</td>\n",
              "      <td>8.000000</td>\n",
              "      <td>7.000000</td>\n",
              "      <td>8.000000</td>\n",
              "      <td>6.000000</td>\n",
              "      <td>17.787000</td>\n",
              "      <td>11.733000</td>\n",
              "      <td>17.132000</td>\n",
              "      <td>...</td>\n",
              "      <td>11.430000</td>\n",
              "      <td>16.127000</td>\n",
              "      <td>19.211500</td>\n",
              "      <td>11.717000</td>\n",
              "      <td>15.628500</td>\n",
              "      <td>16.040000</td>\n",
              "      <td>14.969000</td>\n",
              "      <td>16.436000</td>\n",
              "      <td>701.024500</td>\n",
              "      <td>0.000000</td>\n",
              "    </tr>\n",
              "    <tr>\n",
              "      <th>75%</th>\n",
              "      <td>19926.750000</td>\n",
              "      <td>149.152500</td>\n",
              "      <td>8.000000</td>\n",
              "      <td>8.000000</td>\n",
              "      <td>10.000000</td>\n",
              "      <td>11.000000</td>\n",
              "      <td>8.000000</td>\n",
              "      <td>18.469000</td>\n",
              "      <td>12.410000</td>\n",
              "      <td>17.805000</td>\n",
              "      <td>...</td>\n",
              "      <td>12.102000</td>\n",
              "      <td>17.025000</td>\n",
              "      <td>20.207000</td>\n",
              "      <td>12.709000</td>\n",
              "      <td>16.374000</td>\n",
              "      <td>17.082000</td>\n",
              "      <td>16.018000</td>\n",
              "      <td>17.628000</td>\n",
              "      <td>784.090250</td>\n",
              "      <td>0.000000</td>\n",
              "    </tr>\n",
              "    <tr>\n",
              "      <th>max</th>\n",
              "      <td>26569.000000</td>\n",
              "      <td>385.860000</td>\n",
              "      <td>9.000000</td>\n",
              "      <td>9.000000</td>\n",
              "      <td>29.000000</td>\n",
              "      <td>29.000000</td>\n",
              "      <td>24.000000</td>\n",
              "      <td>21.499000</td>\n",
              "      <td>16.484000</td>\n",
              "      <td>21.425000</td>\n",
              "      <td>...</td>\n",
              "      <td>15.412000</td>\n",
              "      <td>22.479000</td>\n",
              "      <td>25.640000</td>\n",
              "      <td>17.663000</td>\n",
              "      <td>22.713000</td>\n",
              "      <td>22.303000</td>\n",
              "      <td>21.626000</td>\n",
              "      <td>24.094000</td>\n",
              "      <td>1312.794000</td>\n",
              "      <td>1.000000</td>\n",
              "    </tr>\n",
              "  </tbody>\n",
              "</table>\n",
              "<p>8 rows × 23 columns</p>\n",
              "</div>\n",
              "      <button class=\"colab-df-convert\" onclick=\"convertToInteractive('df-883c952c-2617-45b0-b5f2-06400b09098d')\"\n",
              "              title=\"Convert this dataframe to an interactive table.\"\n",
              "              style=\"display:none;\">\n",
              "        \n",
              "  <svg xmlns=\"http://www.w3.org/2000/svg\" height=\"24px\"viewBox=\"0 0 24 24\"\n",
              "       width=\"24px\">\n",
              "    <path d=\"M0 0h24v24H0V0z\" fill=\"none\"/>\n",
              "    <path d=\"M18.56 5.44l.94 2.06.94-2.06 2.06-.94-2.06-.94-.94-2.06-.94 2.06-2.06.94zm-11 1L8.5 8.5l.94-2.06 2.06-.94-2.06-.94L8.5 2.5l-.94 2.06-2.06.94zm10 10l.94 2.06.94-2.06 2.06-.94-2.06-.94-.94-2.06-.94 2.06-2.06.94z\"/><path d=\"M17.41 7.96l-1.37-1.37c-.4-.4-.92-.59-1.43-.59-.52 0-1.04.2-1.43.59L10.3 9.45l-7.72 7.72c-.78.78-.78 2.05 0 2.83L4 21.41c.39.39.9.59 1.41.59.51 0 1.02-.2 1.41-.59l7.78-7.78 2.81-2.81c.8-.78.8-2.07 0-2.86zM5.41 20L4 18.59l7.72-7.72 1.47 1.35L5.41 20z\"/>\n",
              "  </svg>\n",
              "      </button>\n",
              "      \n",
              "  <style>\n",
              "    .colab-df-container {\n",
              "      display:flex;\n",
              "      flex-wrap:wrap;\n",
              "      gap: 12px;\n",
              "    }\n",
              "\n",
              "    .colab-df-convert {\n",
              "      background-color: #E8F0FE;\n",
              "      border: none;\n",
              "      border-radius: 50%;\n",
              "      cursor: pointer;\n",
              "      display: none;\n",
              "      fill: #1967D2;\n",
              "      height: 32px;\n",
              "      padding: 0 0 0 0;\n",
              "      width: 32px;\n",
              "    }\n",
              "\n",
              "    .colab-df-convert:hover {\n",
              "      background-color: #E2EBFA;\n",
              "      box-shadow: 0px 1px 2px rgba(60, 64, 67, 0.3), 0px 1px 3px 1px rgba(60, 64, 67, 0.15);\n",
              "      fill: #174EA6;\n",
              "    }\n",
              "\n",
              "    [theme=dark] .colab-df-convert {\n",
              "      background-color: #3B4455;\n",
              "      fill: #D2E3FC;\n",
              "    }\n",
              "\n",
              "    [theme=dark] .colab-df-convert:hover {\n",
              "      background-color: #434B5C;\n",
              "      box-shadow: 0px 1px 3px 1px rgba(0, 0, 0, 0.15);\n",
              "      filter: drop-shadow(0px 1px 2px rgba(0, 0, 0, 0.3));\n",
              "      fill: #FFFFFF;\n",
              "    }\n",
              "  </style>\n",
              "\n",
              "      <script>\n",
              "        const buttonEl =\n",
              "          document.querySelector('#df-883c952c-2617-45b0-b5f2-06400b09098d button.colab-df-convert');\n",
              "        buttonEl.style.display =\n",
              "          google.colab.kernel.accessAllowed ? 'block' : 'none';\n",
              "\n",
              "        async function convertToInteractive(key) {\n",
              "          const element = document.querySelector('#df-883c952c-2617-45b0-b5f2-06400b09098d');\n",
              "          const dataTable =\n",
              "            await google.colab.kernel.invokeFunction('convertToInteractive',\n",
              "                                                     [key], {});\n",
              "          if (!dataTable) return;\n",
              "\n",
              "          const docLinkHtml = 'Like what you see? Visit the ' +\n",
              "            '<a target=\"_blank\" href=https://colab.research.google.com/notebooks/data_table.ipynb>data table notebook</a>'\n",
              "            + ' to learn more about interactive tables.';\n",
              "          element.innerHTML = '';\n",
              "          dataTable['output_type'] = 'display_data';\n",
              "          await google.colab.output.renderOutput(dataTable, element);\n",
              "          const docLink = document.createElement('div');\n",
              "          docLink.innerHTML = docLinkHtml;\n",
              "          element.appendChild(docLink);\n",
              "        }\n",
              "      </script>\n",
              "    </div>\n",
              "  </div>\n",
              "  "
            ]
          },
          "metadata": {},
          "execution_count": 4
        }
      ]
    },
    {
      "cell_type": "code",
      "source": [
        "train_df.head()"
      ],
      "metadata": {
        "colab": {
          "base_uri": "https://localhost:8080/",
          "height": 300
        },
        "id": "TTvKsuNwzoVy",
        "outputId": "31ee0451-da6c-4804-97ea-5f09a42efb9d"
      },
      "execution_count": 5,
      "outputs": [
        {
          "output_type": "execute_result",
          "data": {
            "text/plain": [
              "   id product_code  loading attribute_0 attribute_1  attribute_2  attribute_3  \\\n",
              "0   0            A    80.10  material_7  material_8            9            5   \n",
              "1   1            A    84.89  material_7  material_8            9            5   \n",
              "2   2            A    82.43  material_7  material_8            9            5   \n",
              "3   3            A   101.07  material_7  material_8            9            5   \n",
              "4   4            A   188.06  material_7  material_8            9            5   \n",
              "\n",
              "   measurement_0  measurement_1  measurement_2  ...  measurement_9  \\\n",
              "0              7              8              4  ...         10.672   \n",
              "1             14              3              3  ...         12.448   \n",
              "2             12              1              5  ...         12.715   \n",
              "3             13              2              6  ...         12.471   \n",
              "4              9              2              8  ...         10.337   \n",
              "\n",
              "   measurement_10  measurement_11  measurement_12  measurement_13  \\\n",
              "0          15.859          17.594          15.193          15.029   \n",
              "1          17.947          17.915          11.755          14.732   \n",
              "2          15.607             NaN          13.798          16.711   \n",
              "3          16.346          18.377          10.020          15.250   \n",
              "4          17.082          19.932          12.428          16.182   \n",
              "\n",
              "   measurement_14  measurement_15  measurement_16  measurement_17  failure  \n",
              "0             NaN          13.034          14.684         764.100        0  \n",
              "1          15.425          14.395          15.631         682.057        0  \n",
              "2          18.631          14.094          17.946         663.376        0  \n",
              "3          15.562          16.154          17.172         826.282        0  \n",
              "4          12.760          13.153          16.412         579.885        0  \n",
              "\n",
              "[5 rows x 26 columns]"
            ],
            "text/html": [
              "\n",
              "  <div id=\"df-b349f94a-14d3-4629-89d7-29a51331df5e\">\n",
              "    <div class=\"colab-df-container\">\n",
              "      <div>\n",
              "<style scoped>\n",
              "    .dataframe tbody tr th:only-of-type {\n",
              "        vertical-align: middle;\n",
              "    }\n",
              "\n",
              "    .dataframe tbody tr th {\n",
              "        vertical-align: top;\n",
              "    }\n",
              "\n",
              "    .dataframe thead th {\n",
              "        text-align: right;\n",
              "    }\n",
              "</style>\n",
              "<table border=\"1\" class=\"dataframe\">\n",
              "  <thead>\n",
              "    <tr style=\"text-align: right;\">\n",
              "      <th></th>\n",
              "      <th>id</th>\n",
              "      <th>product_code</th>\n",
              "      <th>loading</th>\n",
              "      <th>attribute_0</th>\n",
              "      <th>attribute_1</th>\n",
              "      <th>attribute_2</th>\n",
              "      <th>attribute_3</th>\n",
              "      <th>measurement_0</th>\n",
              "      <th>measurement_1</th>\n",
              "      <th>measurement_2</th>\n",
              "      <th>...</th>\n",
              "      <th>measurement_9</th>\n",
              "      <th>measurement_10</th>\n",
              "      <th>measurement_11</th>\n",
              "      <th>measurement_12</th>\n",
              "      <th>measurement_13</th>\n",
              "      <th>measurement_14</th>\n",
              "      <th>measurement_15</th>\n",
              "      <th>measurement_16</th>\n",
              "      <th>measurement_17</th>\n",
              "      <th>failure</th>\n",
              "    </tr>\n",
              "  </thead>\n",
              "  <tbody>\n",
              "    <tr>\n",
              "      <th>0</th>\n",
              "      <td>0</td>\n",
              "      <td>A</td>\n",
              "      <td>80.10</td>\n",
              "      <td>material_7</td>\n",
              "      <td>material_8</td>\n",
              "      <td>9</td>\n",
              "      <td>5</td>\n",
              "      <td>7</td>\n",
              "      <td>8</td>\n",
              "      <td>4</td>\n",
              "      <td>...</td>\n",
              "      <td>10.672</td>\n",
              "      <td>15.859</td>\n",
              "      <td>17.594</td>\n",
              "      <td>15.193</td>\n",
              "      <td>15.029</td>\n",
              "      <td>NaN</td>\n",
              "      <td>13.034</td>\n",
              "      <td>14.684</td>\n",
              "      <td>764.100</td>\n",
              "      <td>0</td>\n",
              "    </tr>\n",
              "    <tr>\n",
              "      <th>1</th>\n",
              "      <td>1</td>\n",
              "      <td>A</td>\n",
              "      <td>84.89</td>\n",
              "      <td>material_7</td>\n",
              "      <td>material_8</td>\n",
              "      <td>9</td>\n",
              "      <td>5</td>\n",
              "      <td>14</td>\n",
              "      <td>3</td>\n",
              "      <td>3</td>\n",
              "      <td>...</td>\n",
              "      <td>12.448</td>\n",
              "      <td>17.947</td>\n",
              "      <td>17.915</td>\n",
              "      <td>11.755</td>\n",
              "      <td>14.732</td>\n",
              "      <td>15.425</td>\n",
              "      <td>14.395</td>\n",
              "      <td>15.631</td>\n",
              "      <td>682.057</td>\n",
              "      <td>0</td>\n",
              "    </tr>\n",
              "    <tr>\n",
              "      <th>2</th>\n",
              "      <td>2</td>\n",
              "      <td>A</td>\n",
              "      <td>82.43</td>\n",
              "      <td>material_7</td>\n",
              "      <td>material_8</td>\n",
              "      <td>9</td>\n",
              "      <td>5</td>\n",
              "      <td>12</td>\n",
              "      <td>1</td>\n",
              "      <td>5</td>\n",
              "      <td>...</td>\n",
              "      <td>12.715</td>\n",
              "      <td>15.607</td>\n",
              "      <td>NaN</td>\n",
              "      <td>13.798</td>\n",
              "      <td>16.711</td>\n",
              "      <td>18.631</td>\n",
              "      <td>14.094</td>\n",
              "      <td>17.946</td>\n",
              "      <td>663.376</td>\n",
              "      <td>0</td>\n",
              "    </tr>\n",
              "    <tr>\n",
              "      <th>3</th>\n",
              "      <td>3</td>\n",
              "      <td>A</td>\n",
              "      <td>101.07</td>\n",
              "      <td>material_7</td>\n",
              "      <td>material_8</td>\n",
              "      <td>9</td>\n",
              "      <td>5</td>\n",
              "      <td>13</td>\n",
              "      <td>2</td>\n",
              "      <td>6</td>\n",
              "      <td>...</td>\n",
              "      <td>12.471</td>\n",
              "      <td>16.346</td>\n",
              "      <td>18.377</td>\n",
              "      <td>10.020</td>\n",
              "      <td>15.250</td>\n",
              "      <td>15.562</td>\n",
              "      <td>16.154</td>\n",
              "      <td>17.172</td>\n",
              "      <td>826.282</td>\n",
              "      <td>0</td>\n",
              "    </tr>\n",
              "    <tr>\n",
              "      <th>4</th>\n",
              "      <td>4</td>\n",
              "      <td>A</td>\n",
              "      <td>188.06</td>\n",
              "      <td>material_7</td>\n",
              "      <td>material_8</td>\n",
              "      <td>9</td>\n",
              "      <td>5</td>\n",
              "      <td>9</td>\n",
              "      <td>2</td>\n",
              "      <td>8</td>\n",
              "      <td>...</td>\n",
              "      <td>10.337</td>\n",
              "      <td>17.082</td>\n",
              "      <td>19.932</td>\n",
              "      <td>12.428</td>\n",
              "      <td>16.182</td>\n",
              "      <td>12.760</td>\n",
              "      <td>13.153</td>\n",
              "      <td>16.412</td>\n",
              "      <td>579.885</td>\n",
              "      <td>0</td>\n",
              "    </tr>\n",
              "  </tbody>\n",
              "</table>\n",
              "<p>5 rows × 26 columns</p>\n",
              "</div>\n",
              "      <button class=\"colab-df-convert\" onclick=\"convertToInteractive('df-b349f94a-14d3-4629-89d7-29a51331df5e')\"\n",
              "              title=\"Convert this dataframe to an interactive table.\"\n",
              "              style=\"display:none;\">\n",
              "        \n",
              "  <svg xmlns=\"http://www.w3.org/2000/svg\" height=\"24px\"viewBox=\"0 0 24 24\"\n",
              "       width=\"24px\">\n",
              "    <path d=\"M0 0h24v24H0V0z\" fill=\"none\"/>\n",
              "    <path d=\"M18.56 5.44l.94 2.06.94-2.06 2.06-.94-2.06-.94-.94-2.06-.94 2.06-2.06.94zm-11 1L8.5 8.5l.94-2.06 2.06-.94-2.06-.94L8.5 2.5l-.94 2.06-2.06.94zm10 10l.94 2.06.94-2.06 2.06-.94-2.06-.94-.94-2.06-.94 2.06-2.06.94z\"/><path d=\"M17.41 7.96l-1.37-1.37c-.4-.4-.92-.59-1.43-.59-.52 0-1.04.2-1.43.59L10.3 9.45l-7.72 7.72c-.78.78-.78 2.05 0 2.83L4 21.41c.39.39.9.59 1.41.59.51 0 1.02-.2 1.41-.59l7.78-7.78 2.81-2.81c.8-.78.8-2.07 0-2.86zM5.41 20L4 18.59l7.72-7.72 1.47 1.35L5.41 20z\"/>\n",
              "  </svg>\n",
              "      </button>\n",
              "      \n",
              "  <style>\n",
              "    .colab-df-container {\n",
              "      display:flex;\n",
              "      flex-wrap:wrap;\n",
              "      gap: 12px;\n",
              "    }\n",
              "\n",
              "    .colab-df-convert {\n",
              "      background-color: #E8F0FE;\n",
              "      border: none;\n",
              "      border-radius: 50%;\n",
              "      cursor: pointer;\n",
              "      display: none;\n",
              "      fill: #1967D2;\n",
              "      height: 32px;\n",
              "      padding: 0 0 0 0;\n",
              "      width: 32px;\n",
              "    }\n",
              "\n",
              "    .colab-df-convert:hover {\n",
              "      background-color: #E2EBFA;\n",
              "      box-shadow: 0px 1px 2px rgba(60, 64, 67, 0.3), 0px 1px 3px 1px rgba(60, 64, 67, 0.15);\n",
              "      fill: #174EA6;\n",
              "    }\n",
              "\n",
              "    [theme=dark] .colab-df-convert {\n",
              "      background-color: #3B4455;\n",
              "      fill: #D2E3FC;\n",
              "    }\n",
              "\n",
              "    [theme=dark] .colab-df-convert:hover {\n",
              "      background-color: #434B5C;\n",
              "      box-shadow: 0px 1px 3px 1px rgba(0, 0, 0, 0.15);\n",
              "      filter: drop-shadow(0px 1px 2px rgba(0, 0, 0, 0.3));\n",
              "      fill: #FFFFFF;\n",
              "    }\n",
              "  </style>\n",
              "\n",
              "      <script>\n",
              "        const buttonEl =\n",
              "          document.querySelector('#df-b349f94a-14d3-4629-89d7-29a51331df5e button.colab-df-convert');\n",
              "        buttonEl.style.display =\n",
              "          google.colab.kernel.accessAllowed ? 'block' : 'none';\n",
              "\n",
              "        async function convertToInteractive(key) {\n",
              "          const element = document.querySelector('#df-b349f94a-14d3-4629-89d7-29a51331df5e');\n",
              "          const dataTable =\n",
              "            await google.colab.kernel.invokeFunction('convertToInteractive',\n",
              "                                                     [key], {});\n",
              "          if (!dataTable) return;\n",
              "\n",
              "          const docLinkHtml = 'Like what you see? Visit the ' +\n",
              "            '<a target=\"_blank\" href=https://colab.research.google.com/notebooks/data_table.ipynb>data table notebook</a>'\n",
              "            + ' to learn more about interactive tables.';\n",
              "          element.innerHTML = '';\n",
              "          dataTable['output_type'] = 'display_data';\n",
              "          await google.colab.output.renderOutput(dataTable, element);\n",
              "          const docLink = document.createElement('div');\n",
              "          docLink.innerHTML = docLinkHtml;\n",
              "          element.appendChild(docLink);\n",
              "        }\n",
              "      </script>\n",
              "    </div>\n",
              "  </div>\n",
              "  "
            ]
          },
          "metadata": {},
          "execution_count": 5
        }
      ]
    },
    {
      "cell_type": "code",
      "source": [
        "print(\"Name\\tUnique values\\tIn %\")\n",
        "for column in train_df.columns:\n",
        "    print(f\"{column}\\t{train_df[column].nunique()}\\t{round(train_df[column].nunique()/len(train_df)*100,2)}\")"
      ],
      "metadata": {
        "colab": {
          "base_uri": "https://localhost:8080/"
        },
        "id": "Ocjdeith0OnF",
        "outputId": "559ddac9-4214-4dc2-a78b-02ec03098587"
      },
      "execution_count": 6,
      "outputs": [
        {
          "output_type": "stream",
          "name": "stdout",
          "text": [
            "Name\tUnique values\tIn %\n",
            "id\t26570\t100.0\n",
            "product_code\t5\t0.02\n",
            "loading\t11950\t44.98\n",
            "attribute_0\t2\t0.01\n",
            "attribute_1\t3\t0.01\n",
            "attribute_2\t4\t0.02\n",
            "attribute_3\t4\t0.02\n",
            "measurement_0\t29\t0.11\n",
            "measurement_1\t30\t0.11\n",
            "measurement_2\t25\t0.09\n",
            "measurement_3\t4721\t17.77\n",
            "measurement_4\t4692\t17.66\n",
            "measurement_5\t4671\t17.58\n",
            "measurement_6\t4704\t17.7\n",
            "measurement_7\t4734\t17.82\n",
            "measurement_8\t4713\t17.74\n",
            "measurement_9\t4708\t17.72\n",
            "measurement_10\t6177\t23.25\n",
            "measurement_11\t6526\t24.56\n",
            "measurement_12\t6392\t24.06\n",
            "measurement_13\t5271\t19.84\n",
            "measurement_14\t6389\t24.05\n",
            "measurement_15\t6577\t24.75\n",
            "measurement_16\t7035\t26.48\n",
            "measurement_17\t23612\t88.87\n",
            "failure\t2\t0.01\n"
          ]
        }
      ]
    },
    {
      "cell_type": "code",
      "source": [
        "train_df.product_code.unique()"
      ],
      "metadata": {
        "colab": {
          "base_uri": "https://localhost:8080/"
        },
        "id": "sJtVw4VX0Opo",
        "outputId": "4649997c-b1c6-4614-9131-0c45c7b2bfe0"
      },
      "execution_count": 7,
      "outputs": [
        {
          "output_type": "execute_result",
          "data": {
            "text/plain": [
              "array(['A', 'B', 'C', 'D', 'E'], dtype=object)"
            ]
          },
          "metadata": {},
          "execution_count": 7
        }
      ]
    },
    {
      "cell_type": "code",
      "source": [
        "train_df.dtypes"
      ],
      "metadata": {
        "colab": {
          "base_uri": "https://localhost:8080/"
        },
        "id": "VHz5CfOr0OsB",
        "outputId": "39c843fb-ed53-47ad-a9d9-262a2ebc457a"
      },
      "execution_count": 8,
      "outputs": [
        {
          "output_type": "execute_result",
          "data": {
            "text/plain": [
              "id                  int64\n",
              "product_code       object\n",
              "loading           float64\n",
              "attribute_0        object\n",
              "attribute_1        object\n",
              "attribute_2         int64\n",
              "attribute_3         int64\n",
              "measurement_0       int64\n",
              "measurement_1       int64\n",
              "measurement_2       int64\n",
              "measurement_3     float64\n",
              "measurement_4     float64\n",
              "measurement_5     float64\n",
              "measurement_6     float64\n",
              "measurement_7     float64\n",
              "measurement_8     float64\n",
              "measurement_9     float64\n",
              "measurement_10    float64\n",
              "measurement_11    float64\n",
              "measurement_12    float64\n",
              "measurement_13    float64\n",
              "measurement_14    float64\n",
              "measurement_15    float64\n",
              "measurement_16    float64\n",
              "measurement_17    float64\n",
              "failure             int64\n",
              "dtype: object"
            ]
          },
          "metadata": {},
          "execution_count": 8
        }
      ]
    },
    {
      "cell_type": "code",
      "source": [
        "print(train_df.columns)"
      ],
      "metadata": {
        "colab": {
          "base_uri": "https://localhost:8080/"
        },
        "id": "mK1xcTTR6zZz",
        "outputId": "3a561e6f-f4e0-4857-83da-2360a81286bb"
      },
      "execution_count": 9,
      "outputs": [
        {
          "output_type": "stream",
          "name": "stdout",
          "text": [
            "Index(['id', 'product_code', 'loading', 'attribute_0', 'attribute_1',\n",
            "       'attribute_2', 'attribute_3', 'measurement_0', 'measurement_1',\n",
            "       'measurement_2', 'measurement_3', 'measurement_4', 'measurement_5',\n",
            "       'measurement_6', 'measurement_7', 'measurement_8', 'measurement_9',\n",
            "       'measurement_10', 'measurement_11', 'measurement_12', 'measurement_13',\n",
            "       'measurement_14', 'measurement_15', 'measurement_16', 'measurement_17',\n",
            "       'failure'],\n",
            "      dtype='object')\n"
          ]
        }
      ]
    },
    {
      "cell_type": "code",
      "source": [
        "print('Train data missing value is = {} %'.format(100* train_df.isna().sum().sum()/(len(train_df)*25)))\n",
        "\n"
      ],
      "metadata": {
        "colab": {
          "base_uri": "https://localhost:8080/"
        },
        "id": "_fJwT6dT4aem",
        "outputId": "a72c8071-b788-4cfb-8740-03a931875fbb"
      },
      "execution_count": 10,
      "outputs": [
        {
          "output_type": "stream",
          "name": "stdout",
          "text": [
            "Train data missing value is = 3.052013549115544 %\n"
          ]
        }
      ]
    },
    {
      "cell_type": "code",
      "source": [
        "float_cols = [f for f in train_df.columns if train_df[f].dtype == float]"
      ],
      "metadata": {
        "id": "j6b6BKNL2GAy"
      },
      "execution_count": 11,
      "outputs": []
    },
    {
      "cell_type": "code",
      "source": [
        "print(f\"{train_df[float_cols].isna().any(axis=1).sum() / len(train_df):.0%}\")"
      ],
      "metadata": {
        "colab": {
          "base_uri": "https://localhost:8080/"
        },
        "id": "4LEg2jVC17uR",
        "outputId": "fa2cff7b-1e90-450c-a729-fdb29692793b"
      },
      "execution_count": 12,
      "outputs": [
        {
          "output_type": "stream",
          "name": "stdout",
          "text": [
            "54%\n"
          ]
        }
      ]
    },
    {
      "cell_type": "code",
      "source": [
        "percent = []\n",
        "for column in train_df.columns:\n",
        "    percent.append( train_df[column].isna().sum()/len(train_df)*100)\n",
        "\n",
        "plt.barh(y=train_df.columns, width=percent, label='s');\n",
        "plt.xlabel(\"Missing values in %\")\n",
        "plt.ylabel(\"Columns\")\n",
        "plt.show()"
      ],
      "metadata": {
        "colab": {
          "base_uri": "https://localhost:8080/",
          "height": 279
        },
        "id": "kN_2-D6d0qbh",
        "outputId": "a0127121-6a5c-46df-9762-b8f81ef840e1"
      },
      "execution_count": 13,
      "outputs": [
        {
          "output_type": "display_data",
          "data": {
            "text/plain": [
              "<Figure size 432x288 with 1 Axes>"
            ],
            "image/png": "[encoded data removed]"
          },
          "metadata": {
            "needs_background": "light"
          }
        }
      ]
    },
    {
      "cell_type": "code",
      "source": [
        "print(train_df.failure.value_counts() / len(train_df))"
      ],
      "metadata": {
        "colab": {
          "base_uri": "https://localhost:8080/"
        },
        "id": "qeHIQlG50qeG",
        "outputId": "8842b55b-9e9b-4c34-8e14-23be36bc1293"
      },
      "execution_count": 14,
      "outputs": [
        {
          "output_type": "stream",
          "name": "stdout",
          "text": [
            "0    0.787392\n",
            "1    0.212608\n",
            "Name: failure, dtype: float64\n"
          ]
        }
      ]
    },
    {
      "cell_type": "code",
      "source": [
        "print(train_df.columns)\n"
      ],
      "metadata": {
        "colab": {
          "base_uri": "https://localhost:8080/"
        },
        "id": "0HDPTcCo5Zok",
        "outputId": "3eaaf40f-e1ef-4d65-b804-50343619e02c"
      },
      "execution_count": 15,
      "outputs": [
        {
          "output_type": "stream",
          "name": "stdout",
          "text": [
            "Index(['id', 'product_code', 'loading', 'attribute_0', 'attribute_1',\n",
            "       'attribute_2', 'attribute_3', 'measurement_0', 'measurement_1',\n",
            "       'measurement_2', 'measurement_3', 'measurement_4', 'measurement_5',\n",
            "       'measurement_6', 'measurement_7', 'measurement_8', 'measurement_9',\n",
            "       'measurement_10', 'measurement_11', 'measurement_12', 'measurement_13',\n",
            "       'measurement_14', 'measurement_15', 'measurement_16', 'measurement_17',\n",
            "       'failure'],\n",
            "      dtype='object')\n"
          ]
        }
      ]
    },
    {
      "cell_type": "code",
      "source": [],
      "metadata": {
        "id": "3FMcqHKh0qgt"
      },
      "execution_count": 15,
      "outputs": []
    },
    {
      "cell_type": "code",
      "source": [
        "from sklearn.preprocessing import LabelEncoder\n",
        "import warnings\n",
        "from pandas.core.common import SettingWithCopyWarning\n",
        "\n",
        "warnings.simplefilter(action=\"ignore\", category=SettingWithCopyWarning)\n",
        "\n",
        "auc_list = []\n",
        "kf = GroupKFold(n_splits=5)\n",
        "best_auc = 0\n",
        "for fold, (index_train, index_val) in enumerate(kf.split(train_df, train_df.failure, train_df.product_code)):\n",
        "    xTrain = train_df.iloc[index_train]\n",
        "    xVal = train_df.iloc[index_val]\n",
        "    yTrain = train_df.iloc[index_train].failure\n",
        "    yVal = train_df.iloc[index_val].failure\n",
        "\n",
        "    #label encode attribute_0 and attribute_1\n",
        "    for col in ['attribute_0', 'attribute_1']:\n",
        "        le = LabelEncoder()\n",
        "        le.fit(pd.concat([xTrain[col], xVal[col]], ignore_index=True))\n",
        "        \n",
        "        #transform the training and validation data using the fitted label encoder\n",
        "        xTrain[col] = le.transform(xTrain[col])\n",
        "        xVal[col] =le.transform(xVal[col])\n",
        "\n",
        "        \n",
        "    xTrain['m3_flag'] = xTrain.measurement_3.isna()\n",
        "    xVal['m3_flag'] = xVal.measurement_3.isna()\n",
        "    xTrain['m5_flag'] = xTrain.measurement_5.isna()\n",
        "    xVal['m5_flag'] = xVal.measurement_5.isna()\n",
        "        \n",
        "    # use imputer to impute the missing values.\n",
        "    features = []\n",
        "    for feature in xTrain.columns:\n",
        "        if feature == 'loading' or feature.startswith('measurement'):\n",
        "            features.append(feature)\n",
        "    imputer = KNNImputer(n_neighbors=15)\n",
        "    #imputer = SimpleImputer(strategy='most_frequent')\n",
        "    imputer.fit(xTrain[features])\n",
        "    xTrain[features] = imputer.transform(xTrain[features])\n",
        "    xVal[features] = imputer.transform(xVal[features])\n",
        "                \n",
        "\n",
        "\n",
        "    # X_tr['measurement_2'] = X_tr['measurement_2'].clip(11, None)\n",
        "    # X_va['measurement_2'] = X_va['measurement_2'].clip(11, None)\n",
        "\n",
        "    #select feature that we want to fit model\n",
        "    feature_selection = ['loading', 'attribute_3', 'measurement_2', 'measurement_4', 'measurement_17', 'm3_flag', 'm5_flag']\n",
        "\n",
        "\n",
        "    #model = LogisticRegression()\n",
        "    #model = make_pipeline(StandardScaler(), LogisticRegression())\n",
        "    model = make_pipeline(StandardScaler(), LogisticRegression(penalty='l1', C=0.01,solver='liblinear', random_state=1,class_weight='balanced'))\n",
        "    model.fit(xTrain[feature_selection], yTrain)\n",
        "\n",
        "\n",
        "    # validate and count auc\n",
        "    yVal_pred = model.predict_proba(xVal[feature_selection])[:,1]\n",
        "    score = roc_auc_score(yVal, yVal_pred)\n",
        "    print(f\"Fold {fold}: auc = {score:.5f}\")\n",
        "    auc_list.append(score)\n",
        "\n",
        "    # if score > best_auc:\n",
        "    #   best_auc = score\n",
        "dump(model, '/content/drive/MyDrive/Final_data/model.joblib')\n",
        "\n",
        "\n",
        "print(f\"Mean auc = {np.mean(auc_list):.5f}\")\n",
        "\n",
        "    \n",
        "   \n"
      ],
      "metadata": {
        "id": "BSb_nYEg0qi4",
        "colab": {
          "base_uri": "https://localhost:8080/"
        },
        "outputId": "bce96e81-8566-4b5a-c8c2-afbbb1667d8f"
      },
      "execution_count": 16,
      "outputs": [
        {
          "output_type": "stream",
          "name": "stdout",
          "text": [
            "Fold 0: auc = 0.58820\n",
            "Fold 1: auc = 0.58157\n",
            "Fold 2: auc = 0.59066\n",
            "Fold 3: auc = 0.59680\n",
            "Fold 4: auc = 0.59662\n",
            "Mean auc = 0.59077\n"
          ]
        }
      ]
    },
    {
      "cell_type": "code",
      "source": [
        "\n"
      ],
      "metadata": {
        "id": "5gRgRDDnb84Z"
      },
      "execution_count": 16,
      "outputs": []
    },
    {
      "cell_type": "code",
      "source": [],
      "metadata": {
        "id": "AhbU-fZp0qlO"
      },
      "execution_count": 16,
      "outputs": []
    }
  ]
}